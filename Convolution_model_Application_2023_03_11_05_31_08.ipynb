{
  "cells": [
    {
      "cell_type": "markdown",
      "metadata": {
        "id": "view-in-github",
        "colab_type": "text"
      },
      "source": [
        "<a href=\"https://colab.research.google.com/github/FokrulBhuiyan/Convolutional-Neural-Networks-Coursera/blob/main/Convolution_model_Application_2023_03_11_05_31_08.ipynb\" target=\"_parent\"><img src=\"https://colab.research.google.com/assets/colab-badge.svg\" alt=\"Open In Colab\"/></a>"
      ]
    },
    {
      "cell_type": "markdown",
      "metadata": {
        "id": "uM2ZXup14AJp"
      },
      "source": [
        "# Convolutional Neural Networks: Application\n",
        "\n",
        "Welcome to Course 4's second assignment! In this notebook, you will:\n",
        "\n",
        "- Create a mood classifer using the TF Keras Sequential API\n",
        "- Build a ConvNet to identify sign language digits using the TF Keras Functional API\n",
        "\n",
        "**After this assignment you will be able to:**\n",
        "\n",
        "- Build and train a ConvNet in TensorFlow for a __binary__ classification problem\n",
        "- Build and train a ConvNet in TensorFlow for a __multiclass__ classification problem\n",
        "- Explain different use cases for the Sequential and Functional APIs\n",
        "\n",
        "To complete this assignment, you should already be familiar with TensorFlow. If you are not, please refer back to the **TensorFlow Tutorial** of the third week of Course 2 (\"**Improving deep neural networks**\")."
      ]
    },
    {
      "cell_type": "markdown",
      "metadata": {
        "id": "x7a8FpJc4AJr"
      },
      "source": [
        "## Table of Contents\n",
        "\n",
        "- [1 - Packages](#1)\n",
        "    - [1.1 - Load the Data and Split the Data into Train/Test Sets](#1-1)\n",
        "- [2 - Layers in TF Keras](#2)\n",
        "- [3 - The Sequential API](#3)\n",
        "    - [3.1 - Create the Sequential Model](#3-1)\n",
        "        - [Exercise 1 - happyModel](#ex-1)\n",
        "    - [3.2 - Train and Evaluate the Model](#3-2)\n",
        "- [4 - The Functional API](#4)\n",
        "    - [4.1 - Load the SIGNS Dataset](#4-1)\n",
        "    - [4.2 - Split the Data into Train/Test Sets](#4-2)\n",
        "    - [4.3 - Forward Propagation](#4-3)\n",
        "        - [Exercise 2 - convolutional_model](#ex-2)\n",
        "    - [4.4 - Train the Model](#4-4)\n",
        "- [5 - History Object](#5)\n",
        "- [6 - Bibliography](#6)"
      ]
    },
    {
      "cell_type": "markdown",
      "metadata": {
        "id": "y9uSpYBv4AJs"
      },
      "source": [
        "<a name='1'></a>\n",
        "## 1 - Packages\n",
        "\n",
        "As usual, begin by loading in the packages."
      ]
    },
    {
      "cell_type": "code",
      "execution_count": null,
      "metadata": {
        "id": "sz5AffVl4AJs"
      },
      "outputs": [],
      "source": [
        "import math\n",
        "import numpy as np\n",
        "import h5py\n",
        "import matplotlib.pyplot as plt\n",
        "from matplotlib.pyplot import imread\n",
        "import scipy\n",
        "from PIL import Image\n",
        "import pandas as pd\n",
        "import tensorflow as tf\n",
        "import tensorflow.keras.layers as tfl\n",
        "from tensorflow.python.framework import ops\n",
        "from cnn_utils import *\n",
        "from test_utils import summary, comparator\n",
        "\n",
        "%matplotlib inline\n",
        "np.random.seed(1)"
      ]
    },
    {
      "cell_type": "markdown",
      "metadata": {
        "id": "xHr9Onmd4AJu"
      },
      "source": [
        "<a name='1-1'></a>\n",
        "### 1.1 - Load the Data and Split the Data into Train/Test Sets\n",
        "\n",
        "You'll be using the Happy House dataset for this part of the assignment, which contains images of peoples' faces. Your task will be to build a ConvNet that determines whether the people in the images are smiling or not -- because they only get to enter the house if they're smiling!  "
      ]
    },
    {
      "cell_type": "code",
      "execution_count": null,
      "metadata": {
        "id": "rXffo3RO4AJu",
        "outputId": "448d07dd-a7d6-4baf-d526-50415d854939"
      },
      "outputs": [
        {
          "name": "stdout",
          "output_type": "stream",
          "text": [
            "number of training examples = 600\n",
            "number of test examples = 150\n",
            "X_train shape: (600, 64, 64, 3)\n",
            "Y_train shape: (600, 1)\n",
            "X_test shape: (150, 64, 64, 3)\n",
            "Y_test shape: (150, 1)\n"
          ]
        }
      ],
      "source": [
        "X_train_orig, Y_train_orig, X_test_orig, Y_test_orig, classes = load_happy_dataset()\n",
        "\n",
        "# Normalize image vectors\n",
        "X_train = X_train_orig/255.\n",
        "X_test = X_test_orig/255.\n",
        "\n",
        "# Reshape\n",
        "Y_train = Y_train_orig.T\n",
        "Y_test = Y_test_orig.T\n",
        "\n",
        "print (\"number of training examples = \" + str(X_train.shape[0]))\n",
        "print (\"number of test examples = \" + str(X_test.shape[0]))\n",
        "print (\"X_train shape: \" + str(X_train.shape))\n",
        "print (\"Y_train shape: \" + str(Y_train.shape))\n",
        "print (\"X_test shape: \" + str(X_test.shape))\n",
        "print (\"Y_test shape: \" + str(Y_test.shape))"
      ]
    },
    {
      "cell_type": "markdown",
      "metadata": {
        "id": "amMPYU-p4AJv"
      },
      "source": [
        "You can display the images contained in the dataset. Images are **64x64** pixels in RGB format (3 channels)."
      ]
    },
    {
      "cell_type": "code",
      "execution_count": null,
      "metadata": {
        "id": "w5LEgFVR4AJv",
        "outputId": "5ee6748c-4302-48b7-f624-4d853848950b"
      },
      "outputs": [
        {
          "data": {
            "image/png": "[encoded data removed]",
            "text/plain": [
              "<Figure size 432x288 with 1 Axes>"
            ]
          },
          "metadata": {
            "needs_background": "light"
          },
          "output_type": "display_data"
        }
      ],
      "source": [
        "index = 124\n",
        "plt.imshow(X_train_orig[index]) #display sample training image\n",
        "plt.show()"
      ]
    },
    {
      "cell_type": "markdown",
      "metadata": {
        "id": "w5gtHsDR4AJw"
      },
      "source": [
        "<a name='2'></a>\n",
        "## 2 - Layers in TF Keras \n",
        "\n",
        "In the previous assignment, you created layers manually in numpy. In TF Keras, you don't have to write code directly to create layers. Rather, TF Keras has pre-defined layers you can use. \n",
        "\n",
        "When you create a layer in TF Keras, you are creating a function that takes some input and transforms it into an output you can reuse later. Nice and easy! "
      ]
    },
    {
      "cell_type": "markdown",
      "metadata": {
        "id": "qCwWTWGY4AJw"
      },
      "source": [
        "<a name='3'></a>\n",
        "## 3 - The Sequential API\n",
        "\n",
        "In the previous assignment, you built helper functions using `numpy` to understand the mechanics behind convolutional neural networks. Most practical applications of deep learning today are built using programming frameworks, which have many built-in functions you can simply call. Keras is a high-level abstraction built on top of TensorFlow, which allows for even more simplified and optimized model creation and training. \n",
        "\n",
        "For the first part of this assignment, you'll create a model using TF Keras' Sequential API, which allows you to build layer by layer, and is ideal for building models where each layer has **exactly one** input tensor and **one** output tensor. \n",
        "\n",
        "As you'll see, using the Sequential API is simple and straightforward, but is only appropriate for simpler, more straightforward tasks. Later in this notebook you'll spend some time building with a more flexible, powerful alternative: the Functional API. \n",
        " "
      ]
    },
    {
      "cell_type": "markdown",
      "metadata": {
        "id": "M_K0gOTs4AJw"
      },
      "source": [
        "<a name='3-1'></a>\n",
        "### 3.1 - Create the Sequential Model\n",
        "\n",
        "As mentioned earlier, the TensorFlow Keras Sequential API can be used to build simple models with layer operations that proceed in a sequential order. \n",
        "\n",
        "You can also add layers incrementally to a Sequential model with the `.add()` method, or remove them using the `.pop()` method, much like you would in a regular Python list.\n",
        "\n",
        "Actually, you can think of a Sequential model as behaving like a list of layers. Like Python lists, Sequential layers are ordered, and the order in which they are specified matters.  If your model is non-linear or contains layers with multiple inputs or outputs, a Sequential model wouldn't be the right choice!\n",
        "\n",
        "For any layer construction in Keras, you'll need to specify the input shape in advance. This is because in Keras, the shape of the weights is based on the shape of the inputs. The weights are only created when the model first sees some input data. Sequential models can be created by passing a list of layers to the Sequential constructor, like you will do in the next assignment.\n",
        "\n",
        "<a name='ex-1'></a>\n",
        "### Exercise 1 - happyModel\n",
        "\n",
        "Implement the `happyModel` function below to build the following model: `ZEROPAD2D -> CONV2D -> BATCHNORM -> RELU -> MAXPOOL -> FLATTEN -> DENSE`. Take help from [tf.keras.layers](https://www.tensorflow.org/api_docs/python/tf/keras/layers) \n",
        "\n",
        "Also, plug in the following parameters for all the steps:\n",
        "\n",
        " - [ZeroPadding2D](https://www.tensorflow.org/api_docs/python/tf/keras/layers/ZeroPadding2D): padding 3, input shape 64 x 64 x 3\n",
        " - [Conv2D](https://www.tensorflow.org/api_docs/python/tf/keras/layers/Conv2D): Use 32 7x7 filters, stride 1\n",
        " - [BatchNormalization](https://www.tensorflow.org/api_docs/python/tf/keras/layers/BatchNormalization): for axis 3\n",
        " - [ReLU](https://www.tensorflow.org/api_docs/python/tf/keras/layers/ReLU)\n",
        " - [MaxPool2D](https://www.tensorflow.org/api_docs/python/tf/keras/layers/MaxPool2D): Using default parameters\n",
        " - [Flatten](https://www.tensorflow.org/api_docs/python/tf/keras/layers/Flatten) the previous output.\n",
        " - Fully-connected ([Dense](https://www.tensorflow.org/api_docs/python/tf/keras/layers/Dense)) layer: Apply a fully connected layer with 1 neuron and a sigmoid activation. \n",
        " \n",
        " \n",
        " **Hint:**\n",
        " \n",
        " Use **tfl** as shorthand for **tensorflow.keras.layers**"
      ]
    },
    {
      "cell_type": "code",
      "execution_count": null,
      "metadata": {
        "deletable": false,
        "nbgrader": {
          "cell_type": "code",
          "checksum": "95d28b191f257bdd5b70c7b8952559d5",
          "grade": false,
          "grade_id": "cell-0e56d3fc28b69aec",
          "locked": false,
          "schema_version": 3,
          "solution": true,
          "task": false
        },
        "id": "qAlOegcl4AJx"
      },
      "outputs": [],
      "source": [
        "# GRADED FUNCTION: happyModel\n",
        "\n",
        "def happyModel():\n",
        "    \"\"\"\n",
        "    Implements the forward propagation for the binary classification model:\n",
        "    ZEROPAD2D -> CONV2D -> BATCHNORM -> RELU -> MAXPOOL -> FLATTEN -> DENSE\n",
        "    \n",
        "    Note that for simplicity and grading purposes, you'll hard-code all the values\n",
        "    such as the stride and kernel (filter) sizes. \n",
        "    Normally, functions should take these values as function parameters.\n",
        "    \n",
        "    Arguments:\n",
        "    None\n",
        "\n",
        "    Returns:\n",
        "    model -- TF Keras model (object containing the information for the entire training process) \n",
        "    \"\"\"\n",
        "    model = tf.keras.Sequential([\n",
        "            tf.keras.Input(shape=(64 , 64 ,3)),\n",
        "            ## ZeroPadding2D with padding 3, input shape of 64 x 64 x 3\n",
        "            tf.keras.layers.ZeroPadding2D(padding=3),\n",
        "            ## Conv2D with 32 7x7 filters and stride of 1\n",
        "            tf.keras.layers.Conv2D(filters=32, kernel_size=7, strides=1),\n",
        "            ## BatchNormalization for axis 3\n",
        "            tf.keras.layers.BatchNormalization(axis=3, momentum=0.99, epsilon=0.001,),\n",
        "            ## ReLU\n",
        "            tf.keras.layers.ReLU(),\n",
        "            ## Max Pooling 2D with default parameters\n",
        "            tf.keras.layers.MaxPool2D(pool_size=2),\n",
        "            ## Flatten layer\n",
        "            tf.keras.layers.Flatten(),\n",
        "            ## Dense layer with 1 unit for output & 'sigmoid' activation\n",
        "            tf.keras.layers.Dense(1, activation=\"sigmoid\"),\n",
        "            # YOUR CODE STARTS HERE\n",
        "            \n",
        "            \n",
        "            # YOUR CODE ENDS HERE\n",
        "        ])\n",
        "    \n",
        "    return model"
      ]
    },
    {
      "cell_type": "code",
      "execution_count": null,
      "metadata": {
        "deletable": false,
        "editable": false,
        "nbgrader": {
          "cell_type": "code",
          "checksum": "8d3575c950e2e78149be2d05d671c80d",
          "grade": true,
          "grade_id": "cell-e3e1046e5c33d775",
          "locked": true,
          "points": 10,
          "schema_version": 3,
          "solution": false,
          "task": false
        },
        "id": "hGOktyH34AJx",
        "outputId": "50141e02-2aac-466b-dbe0-540aec390092"
      },
      "outputs": [
        {
          "name": "stdout",
          "output_type": "stream",
          "text": [
            "['ZeroPadding2D', (None, 70, 70, 3), 0, ((3, 3), (3, 3))]\n",
            "['Conv2D', (None, 64, 64, 32), 4736, 'valid', 'linear', 'GlorotUniform']\n",
            "['BatchNormalization', (None, 64, 64, 32), 128]\n",
            "['ReLU', (None, 64, 64, 32), 0]\n",
            "['MaxPooling2D', (None, 32, 32, 32), 0, (2, 2), (2, 2), 'valid']\n",
            "['Flatten', (None, 32768), 0]\n",
            "['Dense', (None, 1), 32769, 'sigmoid']\n",
            "\u001b[32mAll tests passed!\u001b[0m\n"
          ]
        }
      ],
      "source": [
        "happy_model = happyModel()\n",
        "# Print a summary for each layer\n",
        "for layer in summary(happy_model):\n",
        "    print(layer)\n",
        "    \n",
        "output = [['ZeroPadding2D', (None, 70, 70, 3), 0, ((3, 3), (3, 3))],\n",
        "            ['Conv2D', (None, 64, 64, 32), 4736, 'valid', 'linear', 'GlorotUniform'],\n",
        "            ['BatchNormalization', (None, 64, 64, 32), 128],\n",
        "            ['ReLU', (None, 64, 64, 32), 0],\n",
        "            ['MaxPooling2D', (None, 32, 32, 32), 0, (2, 2), (2, 2), 'valid'],\n",
        "            ['Flatten', (None, 32768), 0],\n",
        "            ['Dense', (None, 1), 32769, 'sigmoid']]\n",
        "    \n",
        "comparator(summary(happy_model), output)"
      ]
    },
    {
      "cell_type": "markdown",
      "metadata": {
        "id": "rzmDfGwK4AJx"
      },
      "source": [
        "Now that your model is created, you can compile it for training with an optimizer and loss of your choice. When the string `accuracy` is specified as a metric, the type of accuracy used will be automatically converted based on the loss function used. This is one of the many optimizations built into TensorFlow that make your life easier! If you'd like to read more on how the compiler operates, check the docs [here](https://www.tensorflow.org/api_docs/python/tf/keras/Model#compile)."
      ]
    },
    {
      "cell_type": "code",
      "execution_count": null,
      "metadata": {
        "id": "RVa47cVg4AJy"
      },
      "outputs": [],
      "source": [
        "happy_model.compile(optimizer='adam',\n",
        "                   loss='binary_crossentropy',\n",
        "                   metrics=['accuracy'])"
      ]
    },
    {
      "cell_type": "markdown",
      "metadata": {
        "id": "npJhSqHv4AJy"
      },
      "source": [
        "It's time to check your model's parameters with the `.summary()` method. This will display the types of layers you have, the shape of the outputs, and how many parameters are in each layer. "
      ]
    },
    {
      "cell_type": "code",
      "execution_count": null,
      "metadata": {
        "id": "3xEvx4pm4AJy",
        "outputId": "3ef76ce1-8439-4f04-9760-d35bfc0f844d"
      },
      "outputs": [
        {
          "name": "stdout",
          "output_type": "stream",
          "text": [
            "Model: \"sequential\"\n",
            "_________________________________________________________________\n",
            "Layer (type)                 Output Shape              Param #   \n",
            "=================================================================\n",
            "zero_padding2d (ZeroPadding2 (None, 70, 70, 3)         0         \n",
            "_________________________________________________________________\n",
            "conv2d_14 (Conv2D)           (None, 64, 64, 32)        4736      \n",
            "_________________________________________________________________\n",
            "batch_normalization (BatchNo (None, 64, 64, 32)        128       \n",
            "_________________________________________________________________\n",
            "re_lu_14 (ReLU)              (None, 64, 64, 32)        0         \n",
            "_________________________________________________________________\n",
            "max_pooling2d_14 (MaxPooling (None, 32, 32, 32)        0         \n",
            "_________________________________________________________________\n",
            "flatten_7 (Flatten)          (None, 32768)             0         \n",
            "_________________________________________________________________\n",
            "dense_7 (Dense)              (None, 1)                 32769     \n",
            "=================================================================\n",
            "Total params: 37,633\n",
            "Trainable params: 37,569\n",
            "Non-trainable params: 64\n",
            "_________________________________________________________________\n"
          ]
        }
      ],
      "source": [
        "happy_model.summary()"
      ]
    },
    {
      "cell_type": "markdown",
      "metadata": {
        "id": "OmAu_Tsq4AJy"
      },
      "source": [
        "<a name='3-2'></a>\n",
        "### 3.2 - Train and Evaluate the Model\n",
        "\n",
        "After creating the model, compiling it with your choice of optimizer and loss function, and doing a sanity check on its contents, you are now ready to build! \n",
        "\n",
        "Simply call `.fit()` to train. That's it! No need for mini-batching, saving, or complex backpropagation computations. That's all been done for you, as you're using a TensorFlow dataset with the batches specified already. You do have the option to specify epoch number or minibatch size if you like (for example, in the case of an un-batched dataset)."
      ]
    },
    {
      "cell_type": "code",
      "execution_count": null,
      "metadata": {
        "id": "MLKHrg9e4AJy",
        "outputId": "e7a766fe-b4b6-43e7-a094-a2df176a5fd7"
      },
      "outputs": [
        {
          "name": "stdout",
          "output_type": "stream",
          "text": [
            "Epoch 1/10\n",
            "38/38 [==============================] - 4s 92ms/step - loss: 1.7300 - accuracy: 0.6433\n",
            "Epoch 2/10\n",
            "38/38 [==============================] - 3s 92ms/step - loss: 0.5318 - accuracy: 0.8217\n",
            "Epoch 3/10\n",
            "38/38 [==============================] - 3s 90ms/step - loss: 0.1852 - accuracy: 0.9350\n",
            "Epoch 4/10\n",
            "38/38 [==============================] - 3s 90ms/step - loss: 0.1336 - accuracy: 0.9517\n",
            "Epoch 5/10\n",
            "38/38 [==============================] - 3s 89ms/step - loss: 0.0947 - accuracy: 0.9650\n",
            "Epoch 6/10\n",
            "38/38 [==============================] - 3s 90ms/step - loss: 0.0861 - accuracy: 0.9750\n",
            "Epoch 7/10\n",
            "38/38 [==============================] - 3s 92ms/step - loss: 0.0901 - accuracy: 0.9650\n",
            "Epoch 8/10\n",
            "38/38 [==============================] - 3s 92ms/step - loss: 0.0692 - accuracy: 0.9817\n",
            "Epoch 9/10\n",
            "38/38 [==============================] - 3s 90ms/step - loss: 0.0587 - accuracy: 0.9800\n",
            "Epoch 10/10\n",
            "38/38 [==============================] - 3s 89ms/step - loss: 0.0597 - accuracy: 0.9800\n"
          ]
        },
        {
          "data": {
            "text/plain": [
              "<tensorflow.python.keras.callbacks.History at 0x7f105c27a990>"
            ]
          },
          "execution_count": 35,
          "metadata": {},
          "output_type": "execute_result"
        }
      ],
      "source": [
        "happy_model.fit(X_train, Y_train, epochs=10, batch_size=16)"
      ]
    },
    {
      "cell_type": "markdown",
      "metadata": {
        "id": "t_H5iE_-4AJz"
      },
      "source": [
        "After that completes, just use `.evaluate()` to evaluate against your test set. This function will print the value of the loss function and the performance metrics specified during the compilation of the model. In this case, the `binary_crossentropy` and the `accuracy` respectively."
      ]
    },
    {
      "cell_type": "code",
      "execution_count": null,
      "metadata": {
        "id": "EWqfC30c4AJz",
        "outputId": "26a657d9-9c8b-45b3-d57a-3d4fbb0a0598"
      },
      "outputs": [
        {
          "name": "stdout",
          "output_type": "stream",
          "text": [
            "5/5 [==============================] - 0s 37ms/step - loss: 0.1581 - accuracy: 0.9267\n"
          ]
        },
        {
          "data": {
            "text/plain": [
              "[0.15806704759597778, 0.9266666769981384]"
            ]
          },
          "execution_count": 36,
          "metadata": {},
          "output_type": "execute_result"
        }
      ],
      "source": [
        "happy_model.evaluate(X_test, Y_test)"
      ]
    },
    {
      "cell_type": "markdown",
      "metadata": {
        "id": "zM5RA_p24AJz"
      },
      "source": [
        "Easy, right? But what if you need to build a model with shared layers, branches, or multiple inputs and outputs? This is where Sequential, with its beautifully simple yet limited functionality, won't be able to help you. \n",
        "\n",
        "Next up: Enter the Functional API, your slightly more complex, highly flexible friend.  "
      ]
    },
    {
      "cell_type": "markdown",
      "metadata": {
        "id": "laxE2FVI4AJz"
      },
      "source": [
        "<a name='4'></a>\n",
        "## 4 - The Functional API"
      ]
    },
    {
      "cell_type": "markdown",
      "metadata": {
        "id": "_2XFJV5U4AJ0"
      },
      "source": [
        "Welcome to the second half of the assignment, where you'll use Keras' flexible [Functional API](https://www.tensorflow.org/guide/keras/functional) to build a ConvNet that can differentiate between 6 sign language digits. \n",
        "\n",
        "The Functional API can handle models with non-linear topology, shared layers, as well as layers with multiple inputs or outputs. Imagine that, where the Sequential API requires the model to move in a linear fashion through its layers, the Functional API allows much more flexibility. Where Sequential is a straight line, a Functional model is a graph, where the nodes of the layers can connect in many more ways than one. \n",
        "\n",
        "In the visual example below, the one possible direction of the movement Sequential model is shown in contrast to a skip connection, which is just one of the many ways a Functional model can be constructed. A skip connection, as you might have guessed, skips some layer in the network and feeds the output to a later layer in the network. Don't worry, you'll be spending more time with skip connections very soon! "
      ]
    },
    {
      "cell_type": "markdown",
      "metadata": {
        "id": "1hwxevpF4AJ0"
      },
      "source": [
        "<img src=\"images/seq_vs_func.png\" style=\"width:350px;height:200px;\">"
      ]
    },
    {
      "cell_type": "markdown",
      "metadata": {
        "id": "OOTpNshd4AJ0"
      },
      "source": [
        "<a name='4-1'></a>\n",
        "### 4.1 - Load the SIGNS Dataset\n",
        "\n",
        "As a reminder, the SIGNS dataset is a collection of 6 signs representing numbers from 0 to 5."
      ]
    },
    {
      "cell_type": "code",
      "execution_count": null,
      "metadata": {
        "id": "7mmL4KXu4AJ0"
      },
      "outputs": [],
      "source": [
        "# Loading the data (signs)\n",
        "X_train_orig, Y_train_orig, X_test_orig, Y_test_orig, classes = load_signs_dataset()"
      ]
    },
    {
      "cell_type": "markdown",
      "metadata": {
        "id": "UICOs1pL4AJ0"
      },
      "source": [
        "<img src=\"images/SIGNS.png\" style=\"width:800px;height:300px;\">\n",
        "\n",
        "The next cell will show you an example of a labelled image in the dataset. Feel free to change the value of `index` below and re-run to see different examples. "
      ]
    },
    {
      "cell_type": "code",
      "execution_count": null,
      "metadata": {
        "id": "OrygRnU-4AJ0",
        "outputId": "80b8001d-2dcd-4564-95cf-967d6cd52f97"
      },
      "outputs": [
        {
          "name": "stdout",
          "output_type": "stream",
          "text": [
            "y = 4\n"
          ]
        },
        {
          "data": {
            "image/png": "[encoded data removed]",
            "text/plain": [
              "<Figure size 432x288 with 1 Axes>"
            ]
          },
          "metadata": {
            "needs_background": "light"
          },
          "output_type": "display_data"
        }
      ],
      "source": [
        "# Example of an image from the dataset\n",
        "index = 9\n",
        "plt.imshow(X_train_orig[index])\n",
        "print (\"y = \" + str(np.squeeze(Y_train_orig[:, index])))"
      ]
    },
    {
      "cell_type": "markdown",
      "metadata": {
        "id": "eLczB9Uz4AJ1"
      },
      "source": [
        "<a name='4-2'></a>\n",
        "### 4.2 - Split the Data into Train/Test Sets\n",
        "\n",
        "In Course 2, you built a fully-connected network for this dataset. But since this is an image dataset, it is more natural to apply a ConvNet to it.\n",
        "\n",
        "To get started, let's examine the shapes of your data. "
      ]
    },
    {
      "cell_type": "code",
      "execution_count": null,
      "metadata": {
        "id": "Su6e6g774AJ1",
        "outputId": "21d3f7b2-6b41-49ea-9226-b5723f37a3de"
      },
      "outputs": [
        {
          "name": "stdout",
          "output_type": "stream",
          "text": [
            "number of training examples = 1080\n",
            "number of test examples = 120\n",
            "X_train shape: (1080, 64, 64, 3)\n",
            "Y_train shape: (1080, 6)\n",
            "X_test shape: (120, 64, 64, 3)\n",
            "Y_test shape: (120, 6)\n"
          ]
        },
        {
          "data": {
            "text/plain": [
              "array([[0., 0., 0., 0., 0., 1.],\n",
              "       [1., 0., 0., 0., 0., 0.],\n",
              "       [0., 0., 1., 0., 0., 0.],\n",
              "       ...,\n",
              "       [0., 0., 1., 0., 0., 0.],\n",
              "       [0., 0., 0., 0., 1., 0.],\n",
              "       [0., 0., 0., 0., 0., 1.]])"
            ]
          },
          "execution_count": 39,
          "metadata": {},
          "output_type": "execute_result"
        }
      ],
      "source": [
        "X_train = X_train_orig/255.\n",
        "X_test = X_test_orig/255.\n",
        "Y_train = convert_to_one_hot(Y_train_orig, 6).T\n",
        "Y_test = convert_to_one_hot(Y_test_orig, 6).T\n",
        "print (\"number of training examples = \" + str(X_train.shape[0]))\n",
        "print (\"number of test examples = \" + str(X_test.shape[0]))\n",
        "print (\"X_train shape: \" + str(X_train.shape))\n",
        "print (\"Y_train shape: \" + str(Y_train.shape))\n",
        "print (\"X_test shape: \" + str(X_test.shape))\n",
        "print (\"Y_test shape: \" + str(Y_test.shape))\n",
        "Y_train"
      ]
    },
    {
      "cell_type": "markdown",
      "metadata": {
        "id": "rlC9iTau4AJ1"
      },
      "source": [
        "<a name='4-3'></a>\n",
        "### 4.3 - Forward Propagation\n",
        "\n",
        "In TensorFlow, there are built-in functions that implement the convolution steps for you. By now, you should be familiar with how TensorFlow builds computational graphs. In the [Functional API](https://www.tensorflow.org/guide/keras/functional), you create a graph of layers. This is what allows such great flexibility.\n",
        "\n",
        "However, the following model could also be defined using the Sequential API since the information flow is on a single line. But don't deviate. What we want you to learn is to use the functional API.\n",
        "\n",
        "Begin building your graph of layers by creating an input node that functions as a callable object:\n",
        "\n",
        "- **input_img = tf.keras.Input(shape=input_shape):** \n",
        "\n",
        "Then, create a new node in the graph of layers by calling a layer on the `input_img` object: \n",
        "\n",
        "- **tf.keras.layers.Conv2D(filters= ... , kernel_size= ... , padding='same')(input_img):** Read the full documentation on [Conv2D](https://www.tensorflow.org/api_docs/python/tf/keras/layers/Conv2D).\n",
        "\n",
        "- **tf.keras.layers.MaxPool2D(pool_size=(f, f), strides=(s, s), padding='same'):** `MaxPool2D()` downsamples your input using a window of size (f, f) and strides of size (s, s) to carry out max pooling over each window.  For max pooling, you usually operate on a single example at a time and a single channel at a time. Read the full documentation on [MaxPool2D](https://www.tensorflow.org/api_docs/python/tf/keras/layers/MaxPool2D).\n",
        "\n",
        "- **tf.keras.layers.ReLU():** computes the elementwise ReLU of Z (which can be any shape). You can read the full documentation on [ReLU](https://www.tensorflow.org/api_docs/python/tf/keras/layers/ReLU).\n",
        "\n",
        "- **tf.keras.layers.Flatten()**: given a tensor \"P\", this function takes each training (or test) example in the batch and flattens it into a 1D vector.  \n",
        "\n",
        "    * If a tensor P has the shape (batch_size,h,w,c), it returns a flattened tensor with shape (batch_size, k), where $k=h \\times w \\times c$.  \"k\" equals the product of all the dimension sizes other than the first dimension.\n",
        "    \n",
        "    * For example, given a tensor with dimensions [100, 2, 3, 4], it flattens the tensor to be of shape [100, 24], where 24 = 2 * 3 * 4.  You can read the full documentation on [Flatten](https://www.tensorflow.org/api_docs/python/tf/keras/layers/Flatten).\n",
        "\n",
        "- **tf.keras.layers.Dense(units= ... , activation='softmax')(F):** given the flattened input F, it returns the output computed using a fully connected layer. You can read the full documentation on [Dense](https://www.tensorflow.org/api_docs/python/tf/keras/layers/Dense).\n",
        "\n",
        "In the last function above (`tf.keras.layers.Dense()`), the fully connected layer automatically initializes weights in the graph and keeps on training them as you train the model. Hence, you did not need to initialize those weights when initializing the parameters.\n",
        "\n",
        "Lastly, before creating the model, you'll need to define the output using the last of the function's compositions (in this example, a Dense layer): \n",
        "\n",
        "- **outputs = tf.keras.layers.Dense(units=6, activation='softmax')(F)**\n",
        "\n",
        "\n",
        "#### Window, kernel, filter, pool\n",
        "\n",
        "The words \"kernel\" and \"filter\" are used to refer to the same thing. The word \"filter\" accounts for the amount of \"kernels\" that will be used in a single convolution layer. \"Pool\" is the name of the operation that takes the max or average value of the kernels. \n",
        "\n",
        "This is why the parameter `pool_size` refers to `kernel_size`, and you use `(f,f)` to refer to the filter size. \n",
        "\n",
        "Pool size and kernel size refer to the same thing in different objects - They refer to the shape of the window where the operation takes place. "
      ]
    },
    {
      "cell_type": "markdown",
      "metadata": {
        "id": "T0iX9wXA4AJ1"
      },
      "source": [
        "<a name='ex-2'></a>\n",
        "### Exercise 2 - convolutional_model\n",
        "\n",
        "Implement the `convolutional_model` function below to build the following model: `CONV2D -> RELU -> MAXPOOL -> CONV2D -> RELU -> MAXPOOL -> FLATTEN -> DENSE`. Use the functions above! \n",
        "\n",
        "Also, plug in the following parameters for all the steps:\n",
        "\n",
        " - [Conv2D](https://www.tensorflow.org/api_docs/python/tf/keras/layers/Conv2D): Use 8 4 by 4 filters, stride 1, padding is \"SAME\"\n",
        " - [ReLU](https://www.tensorflow.org/api_docs/python/tf/keras/layers/ReLU)\n",
        " - [MaxPool2D](https://www.tensorflow.org/api_docs/python/tf/keras/layers/MaxPool2D): Use an 8 by 8 filter size and an 8 by 8 stride, padding is \"SAME\"\n",
        " - **Conv2D**: Use 16 2 by 2 filters, stride 1, padding is \"SAME\"\n",
        " - **ReLU**\n",
        " - **MaxPool2D**: Use a 4 by 4 filter size and a 4 by 4 stride, padding is \"SAME\"\n",
        " - [Flatten](https://www.tensorflow.org/api_docs/python/tf/keras/layers/Flatten) the previous output.\n",
        " - Fully-connected ([Dense](https://www.tensorflow.org/api_docs/python/tf/keras/layers/Dense)) layer: Apply a fully connected layer with 6 neurons and a softmax activation. "
      ]
    },
    {
      "cell_type": "code",
      "execution_count": null,
      "metadata": {
        "deletable": false,
        "nbgrader": {
          "cell_type": "code",
          "checksum": "f58643806aa8380c96225fc8b4c5e7aa",
          "grade": false,
          "grade_id": "cell-dac51744a9e03f51",
          "locked": false,
          "schema_version": 3,
          "solution": true,
          "task": false
        },
        "id": "RsqZN5Ia4AJ1"
      },
      "outputs": [],
      "source": [
        "# GRADED FUNCTION: convolutional_model\n",
        "\n",
        "def convolutional_model(input_shape):\n",
        "    \"\"\"\n",
        "    Implements the forward propagation for the model:\n",
        "    CONV2D -> RELU -> MAXPOOL -> CONV2D -> RELU -> MAXPOOL -> FLATTEN -> DENSE\n",
        "    \n",
        "    Note that for simplicity and grading purposes, you'll hard-code some values\n",
        "    such as the stride and kernel (filter) sizes. \n",
        "    Normally, functions should take these values as function parameters.\n",
        "    \n",
        "    Arguments:\n",
        "    input_img -- input dataset, of shape (input_shape)\n",
        "\n",
        "    Returns:\n",
        "    model -- TF Keras model (object containing the information for the entire training process) \n",
        "    \"\"\"\n",
        "\n",
        "    input_img = tf.keras.Input(shape=input_shape)\n",
        "    ## CONV2D: 8 filters 4x4, stride of 1, padding 'SAME'\n",
        "    Z1 = tf.keras.layers.Conv2D(8, kernel_size=4, strides=1, padding='same')(input_img)\n",
        "    ## RELU\n",
        "    A1 = tf.keras.layers.ReLU()(Z1)\n",
        "    ## MAXPOOL: window 8x8, stride 8, padding 'SAME'\n",
        "    P1 = tf.keras.layers.MaxPool2D(pool_size=8, strides=8, padding='same')(A1)\n",
        "    ## CONV2D: 16 filters 2x2, stride 1, padding 'SAME'\n",
        "    Z2 = tf.keras.layers.Conv2D(16, kernel_size=2, strides=1, padding='same')(P1)\n",
        "    ## RELU\n",
        "    A2 = tf.keras.layers.ReLU()(Z2)\n",
        "    ## MAXPOOL: window 4x4, stride 4, padding 'SAME'\n",
        "    P2 = tf.keras.layers.MaxPool2D(pool_size=4, strides=4, padding='same')(A2)\n",
        "    ## FLATTEN\n",
        "    F = tf.keras.layers.Flatten()(P2)\n",
        "    ## Dense layer\n",
        "    ## 6 neurons in output layer. Hint: one of the arguments should be \"activation='softmax'\" \n",
        "    outputs = tf.keras.layers.Dense(6, activation=\"softmax\")(F)\n",
        "    # YOUR CODE STARTS HERE\n",
        "    \n",
        "    \n",
        "    # YOUR CODE ENDS HERE\n",
        "    model = tf.keras.Model(inputs=input_img, outputs=outputs)\n",
        "    return model"
      ]
    },
    {
      "cell_type": "code",
      "execution_count": null,
      "metadata": {
        "deletable": false,
        "editable": false,
        "nbgrader": {
          "cell_type": "code",
          "checksum": "483d626949930a0b0ef20997e7c6ba72",
          "grade": true,
          "grade_id": "cell-45d22e92042174c9",
          "locked": true,
          "points": 10,
          "schema_version": 3,
          "solution": false,
          "task": false
        },
        "id": "GW39PGeB4AJ2",
        "outputId": "1abcc580-ad73-48eb-d513-9f0f3ecf6d37"
      },
      "outputs": [
        {
          "name": "stdout",
          "output_type": "stream",
          "text": [
            "Model: \"functional_15\"\n",
            "_________________________________________________________________\n",
            "Layer (type)                 Output Shape              Param #   \n",
            "=================================================================\n",
            "input_9 (InputLayer)         [(None, 64, 64, 3)]       0         \n",
            "_________________________________________________________________\n",
            "conv2d_15 (Conv2D)           (None, 64, 64, 8)         392       \n",
            "_________________________________________________________________\n",
            "re_lu_15 (ReLU)              (None, 64, 64, 8)         0         \n",
            "_________________________________________________________________\n",
            "max_pooling2d_15 (MaxPooling (None, 8, 8, 8)           0         \n",
            "_________________________________________________________________\n",
            "conv2d_16 (Conv2D)           (None, 8, 8, 16)          528       \n",
            "_________________________________________________________________\n",
            "re_lu_16 (ReLU)              (None, 8, 8, 16)          0         \n",
            "_________________________________________________________________\n",
            "max_pooling2d_16 (MaxPooling (None, 2, 2, 16)          0         \n",
            "_________________________________________________________________\n",
            "flatten_8 (Flatten)          (None, 64)                0         \n",
            "_________________________________________________________________\n",
            "dense_8 (Dense)              (None, 6)                 390       \n",
            "=================================================================\n",
            "Total params: 1,310\n",
            "Trainable params: 1,310\n",
            "Non-trainable params: 0\n",
            "_________________________________________________________________\n",
            "\u001b[32mAll tests passed!\u001b[0m\n"
          ]
        }
      ],
      "source": [
        "conv_model = convolutional_model((64, 64, 3))\n",
        "conv_model.compile(optimizer='adam',\n",
        "                  loss='categorical_crossentropy',\n",
        "                  metrics=['accuracy'])\n",
        "conv_model.summary()\n",
        "    \n",
        "output = [['InputLayer', [(None, 64, 64, 3)], 0],\n",
        "        ['Conv2D', (None, 64, 64, 8), 392, 'same', 'linear', 'GlorotUniform'],\n",
        "        ['ReLU', (None, 64, 64, 8), 0],\n",
        "        ['MaxPooling2D', (None, 8, 8, 8), 0, (8, 8), (8, 8), 'same'],\n",
        "        ['Conv2D', (None, 8, 8, 16), 528, 'same', 'linear', 'GlorotUniform'],\n",
        "        ['ReLU', (None, 8, 8, 16), 0],\n",
        "        ['MaxPooling2D', (None, 2, 2, 16), 0, (4, 4), (4, 4), 'same'],\n",
        "        ['Flatten', (None, 64), 0],\n",
        "        ['Dense', (None, 6), 390, 'softmax']]\n",
        "    \n",
        "comparator(summary(conv_model), output)"
      ]
    },
    {
      "cell_type": "markdown",
      "metadata": {
        "id": "eKaVpSz54AJ2"
      },
      "source": [
        "Both the Sequential and Functional APIs return a TF Keras model object. The only difference is how inputs are handled inside the object model! "
      ]
    },
    {
      "cell_type": "markdown",
      "metadata": {
        "id": "PlnO1wO-4AJ2"
      },
      "source": [
        "<a name='4-4'></a>\n",
        "### 4.4 - Train the Model"
      ]
    },
    {
      "cell_type": "code",
      "execution_count": null,
      "metadata": {
        "id": "olYT2mkn4AJ2",
        "outputId": "9e671abd-d62d-4652-f370-dc62a073f7b6"
      },
      "outputs": [
        {
          "name": "stdout",
          "output_type": "stream",
          "text": [
            "Epoch 1/100\n",
            "17/17 [==============================] - 2s 100ms/step - loss: 1.8276 - accuracy: 0.1676 - val_loss: 1.7942 - val_accuracy: 0.1583\n",
            "Epoch 2/100\n",
            "17/17 [==============================] - 2s 100ms/step - loss: 1.7910 - accuracy: 0.1861 - val_loss: 1.7866 - val_accuracy: 0.1833\n",
            "Epoch 3/100\n",
            "17/17 [==============================] - 2s 95ms/step - loss: 1.7852 - accuracy: 0.2296 - val_loss: 1.7812 - val_accuracy: 0.2250\n",
            "Epoch 4/100\n",
            "17/17 [==============================] - 2s 96ms/step - loss: 1.7802 - accuracy: 0.2398 - val_loss: 1.7754 - val_accuracy: 0.2167\n",
            "Epoch 5/100\n",
            "17/17 [==============================] - 2s 100ms/step - loss: 1.7744 - accuracy: 0.2620 - val_loss: 1.7689 - val_accuracy: 0.2667\n",
            "Epoch 6/100\n",
            "17/17 [==============================] - 2s 100ms/step - loss: 1.7683 - accuracy: 0.3000 - val_loss: 1.7604 - val_accuracy: 0.3000\n",
            "Epoch 7/100\n",
            "17/17 [==============================] - 2s 100ms/step - loss: 1.7591 - accuracy: 0.3324 - val_loss: 1.7479 - val_accuracy: 0.3750\n",
            "Epoch 8/100\n",
            "17/17 [==============================] - 2s 95ms/step - loss: 1.7461 - accuracy: 0.3500 - val_loss: 1.7323 - val_accuracy: 0.3917\n",
            "Epoch 9/100\n",
            "17/17 [==============================] - 2s 100ms/step - loss: 1.7296 - accuracy: 0.3444 - val_loss: 1.7114 - val_accuracy: 0.4333\n",
            "Epoch 10/100\n",
            "17/17 [==============================] - 2s 106ms/step - loss: 1.7070 - accuracy: 0.3907 - val_loss: 1.6874 - val_accuracy: 0.4417\n",
            "Epoch 11/100\n",
            "17/17 [==============================] - 2s 100ms/step - loss: 1.6795 - accuracy: 0.4056 - val_loss: 1.6594 - val_accuracy: 0.4417\n",
            "Epoch 12/100\n",
            "17/17 [==============================] - 2s 94ms/step - loss: 1.6467 - accuracy: 0.4185 - val_loss: 1.6256 - val_accuracy: 0.4333\n",
            "Epoch 13/100\n",
            "17/17 [==============================] - 2s 94ms/step - loss: 1.6072 - accuracy: 0.4491 - val_loss: 1.5740 - val_accuracy: 0.4333\n",
            "Epoch 14/100\n",
            "17/17 [==============================] - 2s 100ms/step - loss: 1.5642 - accuracy: 0.4685 - val_loss: 1.5317 - val_accuracy: 0.4417\n",
            "Epoch 15/100\n",
            "17/17 [==============================] - 2s 100ms/step - loss: 1.5154 - accuracy: 0.4685 - val_loss: 1.4817 - val_accuracy: 0.4417\n",
            "Epoch 16/100\n",
            "17/17 [==============================] - 2s 100ms/step - loss: 1.4643 - accuracy: 0.4898 - val_loss: 1.4324 - val_accuracy: 0.4750\n",
            "Epoch 17/100\n",
            "17/17 [==============================] - 2s 95ms/step - loss: 1.4156 - accuracy: 0.5065 - val_loss: 1.3841 - val_accuracy: 0.4500\n",
            "Epoch 18/100\n",
            "17/17 [==============================] - 2s 100ms/step - loss: 1.3705 - accuracy: 0.5194 - val_loss: 1.3470 - val_accuracy: 0.4667\n",
            "Epoch 19/100\n",
            "17/17 [==============================] - 2s 100ms/step - loss: 1.3248 - accuracy: 0.5204 - val_loss: 1.3010 - val_accuracy: 0.4750\n",
            "Epoch 20/100\n",
            "17/17 [==============================] - 2s 100ms/step - loss: 1.2854 - accuracy: 0.5463 - val_loss: 1.2641 - val_accuracy: 0.5000\n",
            "Epoch 21/100\n",
            "17/17 [==============================] - 2s 95ms/step - loss: 1.2487 - accuracy: 0.5620 - val_loss: 1.2303 - val_accuracy: 0.5167\n",
            "Epoch 22/100\n",
            "17/17 [==============================] - 2s 95ms/step - loss: 1.2139 - accuracy: 0.5722 - val_loss: 1.1986 - val_accuracy: 0.5417\n",
            "Epoch 23/100\n",
            "17/17 [==============================] - 2s 95ms/step - loss: 1.1812 - accuracy: 0.5806 - val_loss: 1.1673 - val_accuracy: 0.5500\n",
            "Epoch 24/100\n",
            "17/17 [==============================] - 2s 95ms/step - loss: 1.1543 - accuracy: 0.5880 - val_loss: 1.1399 - val_accuracy: 0.5583\n",
            "Epoch 25/100\n",
            "17/17 [==============================] - 2s 95ms/step - loss: 1.1302 - accuracy: 0.6009 - val_loss: 1.1228 - val_accuracy: 0.5583\n",
            "Epoch 26/100\n",
            "17/17 [==============================] - 2s 100ms/step - loss: 1.1029 - accuracy: 0.6148 - val_loss: 1.1006 - val_accuracy: 0.5750\n",
            "Epoch 27/100\n",
            "17/17 [==============================] - 2s 100ms/step - loss: 1.0761 - accuracy: 0.6222 - val_loss: 1.0762 - val_accuracy: 0.6000\n",
            "Epoch 28/100\n",
            "17/17 [==============================] - 2s 96ms/step - loss: 1.0554 - accuracy: 0.6343 - val_loss: 1.0556 - val_accuracy: 0.6083\n",
            "Epoch 29/100\n",
            "17/17 [==============================] - 2s 100ms/step - loss: 1.0377 - accuracy: 0.6389 - val_loss: 1.0380 - val_accuracy: 0.6083\n",
            "Epoch 30/100\n",
            "17/17 [==============================] - 2s 95ms/step - loss: 1.0203 - accuracy: 0.6426 - val_loss: 1.0225 - val_accuracy: 0.6083\n",
            "Epoch 31/100\n",
            "17/17 [==============================] - 2s 101ms/step - loss: 1.0025 - accuracy: 0.6537 - val_loss: 1.0090 - val_accuracy: 0.5917\n",
            "Epoch 32/100\n",
            "17/17 [==============================] - 2s 100ms/step - loss: 0.9849 - accuracy: 0.6630 - val_loss: 0.9943 - val_accuracy: 0.6000\n",
            "Epoch 33/100\n",
            "17/17 [==============================] - 2s 100ms/step - loss: 0.9684 - accuracy: 0.6694 - val_loss: 0.9804 - val_accuracy: 0.6083\n",
            "Epoch 34/100\n",
            "17/17 [==============================] - 2s 100ms/step - loss: 0.9532 - accuracy: 0.6722 - val_loss: 0.9680 - val_accuracy: 0.6083\n",
            "Epoch 35/100\n",
            "17/17 [==============================] - 2s 100ms/step - loss: 0.9388 - accuracy: 0.6759 - val_loss: 0.9563 - val_accuracy: 0.6167\n",
            "Epoch 36/100\n",
            "17/17 [==============================] - 2s 95ms/step - loss: 0.9249 - accuracy: 0.6796 - val_loss: 0.9445 - val_accuracy: 0.6250\n",
            "Epoch 37/100\n",
            "17/17 [==============================] - 2s 100ms/step - loss: 0.9114 - accuracy: 0.6806 - val_loss: 0.9328 - val_accuracy: 0.6333\n",
            "Epoch 38/100\n",
            "17/17 [==============================] - 2s 100ms/step - loss: 0.8983 - accuracy: 0.6861 - val_loss: 0.9218 - val_accuracy: 0.6333\n",
            "Epoch 39/100\n",
            "17/17 [==============================] - 2s 96ms/step - loss: 0.8858 - accuracy: 0.6907 - val_loss: 0.9114 - val_accuracy: 0.6417\n",
            "Epoch 40/100\n",
            "17/17 [==============================] - 2s 100ms/step - loss: 0.8740 - accuracy: 0.6972 - val_loss: 0.9016 - val_accuracy: 0.6417\n",
            "Epoch 41/100\n",
            "17/17 [==============================] - 2s 100ms/step - loss: 0.8624 - accuracy: 0.6991 - val_loss: 0.8921 - val_accuracy: 0.6417\n",
            "Epoch 42/100\n",
            "17/17 [==============================] - 2s 95ms/step - loss: 0.8511 - accuracy: 0.7056 - val_loss: 0.8820 - val_accuracy: 0.6583\n",
            "Epoch 43/100\n",
            "17/17 [==============================] - 2s 95ms/step - loss: 0.8401 - accuracy: 0.7093 - val_loss: 0.8727 - val_accuracy: 0.6583\n",
            "Epoch 44/100\n",
            "17/17 [==============================] - 2s 95ms/step - loss: 0.8296 - accuracy: 0.7139 - val_loss: 0.8638 - val_accuracy: 0.6667\n",
            "Epoch 45/100\n",
            "17/17 [==============================] - 2s 95ms/step - loss: 0.8193 - accuracy: 0.7167 - val_loss: 0.8550 - val_accuracy: 0.6833\n",
            "Epoch 46/100\n",
            "17/17 [==============================] - 2s 95ms/step - loss: 0.8091 - accuracy: 0.7194 - val_loss: 0.8470 - val_accuracy: 0.6833\n",
            "Epoch 47/100\n",
            "17/17 [==============================] - 2s 95ms/step - loss: 0.7994 - accuracy: 0.7250 - val_loss: 0.8388 - val_accuracy: 0.7000\n",
            "Epoch 48/100\n",
            "17/17 [==============================] - 2s 100ms/step - loss: 0.7901 - accuracy: 0.7287 - val_loss: 0.8306 - val_accuracy: 0.7083\n",
            "Epoch 49/100\n",
            "17/17 [==============================] - 2s 100ms/step - loss: 0.7812 - accuracy: 0.7343 - val_loss: 0.8225 - val_accuracy: 0.7167\n",
            "Epoch 50/100\n",
            "17/17 [==============================] - 2s 100ms/step - loss: 0.7731 - accuracy: 0.7315 - val_loss: 0.8169 - val_accuracy: 0.7083\n",
            "Epoch 51/100\n",
            "17/17 [==============================] - 2s 100ms/step - loss: 0.7647 - accuracy: 0.7370 - val_loss: 0.8101 - val_accuracy: 0.7167\n",
            "Epoch 52/100\n",
            "17/17 [==============================] - 2s 100ms/step - loss: 0.7570 - accuracy: 0.7380 - val_loss: 0.8024 - val_accuracy: 0.7250\n",
            "Epoch 53/100\n",
            "17/17 [==============================] - 2s 96ms/step - loss: 0.7479 - accuracy: 0.7444 - val_loss: 0.7954 - val_accuracy: 0.7250\n",
            "Epoch 54/100\n",
            "17/17 [==============================] - 2s 100ms/step - loss: 0.7410 - accuracy: 0.7472 - val_loss: 0.7880 - val_accuracy: 0.7333\n",
            "Epoch 55/100\n",
            "17/17 [==============================] - 2s 100ms/step - loss: 0.7325 - accuracy: 0.7491 - val_loss: 0.7812 - val_accuracy: 0.7333\n",
            "Epoch 56/100\n",
            "17/17 [==============================] - 2s 106ms/step - loss: 0.7253 - accuracy: 0.7519 - val_loss: 0.7754 - val_accuracy: 0.7333\n",
            "Epoch 57/100\n",
            "17/17 [==============================] - 2s 100ms/step - loss: 0.7178 - accuracy: 0.7528 - val_loss: 0.7692 - val_accuracy: 0.7333\n",
            "Epoch 58/100\n"
          ]
        },
        {
          "name": "stdout",
          "output_type": "stream",
          "text": [
            "17/17 [==============================] - 2s 100ms/step - loss: 0.7112 - accuracy: 0.7528 - val_loss: 0.7637 - val_accuracy: 0.7333\n",
            "Epoch 59/100\n",
            "17/17 [==============================] - 2s 100ms/step - loss: 0.7046 - accuracy: 0.7546 - val_loss: 0.7582 - val_accuracy: 0.7333\n",
            "Epoch 60/100\n",
            "17/17 [==============================] - 2s 94ms/step - loss: 0.6982 - accuracy: 0.7574 - val_loss: 0.7523 - val_accuracy: 0.7417\n",
            "Epoch 61/100\n",
            "17/17 [==============================] - 2s 96ms/step - loss: 0.6916 - accuracy: 0.7611 - val_loss: 0.7467 - val_accuracy: 0.7417\n",
            "Epoch 62/100\n",
            "17/17 [==============================] - 2s 100ms/step - loss: 0.6855 - accuracy: 0.7667 - val_loss: 0.7414 - val_accuracy: 0.7500\n",
            "Epoch 63/100\n",
            "17/17 [==============================] - 2s 100ms/step - loss: 0.6793 - accuracy: 0.7722 - val_loss: 0.7362 - val_accuracy: 0.7500\n",
            "Epoch 64/100\n",
            "17/17 [==============================] - 2s 100ms/step - loss: 0.6734 - accuracy: 0.7731 - val_loss: 0.7313 - val_accuracy: 0.7500\n",
            "Epoch 65/100\n",
            "17/17 [==============================] - 2s 100ms/step - loss: 0.6677 - accuracy: 0.7759 - val_loss: 0.7262 - val_accuracy: 0.7500\n",
            "Epoch 66/100\n",
            "17/17 [==============================] - 2s 95ms/step - loss: 0.6620 - accuracy: 0.7796 - val_loss: 0.7215 - val_accuracy: 0.7583\n",
            "Epoch 67/100\n",
            "17/17 [==============================] - 2s 100ms/step - loss: 0.6566 - accuracy: 0.7815 - val_loss: 0.7171 - val_accuracy: 0.7583\n",
            "Epoch 68/100\n",
            "17/17 [==============================] - 2s 100ms/step - loss: 0.6517 - accuracy: 0.7815 - val_loss: 0.7138 - val_accuracy: 0.7500\n",
            "Epoch 69/100\n",
            "17/17 [==============================] - 2s 100ms/step - loss: 0.6463 - accuracy: 0.7833 - val_loss: 0.7083 - val_accuracy: 0.7583\n",
            "Epoch 70/100\n",
            "17/17 [==============================] - 2s 95ms/step - loss: 0.6408 - accuracy: 0.7843 - val_loss: 0.7039 - val_accuracy: 0.7583\n",
            "Epoch 71/100\n",
            "17/17 [==============================] - 2s 95ms/step - loss: 0.6352 - accuracy: 0.7843 - val_loss: 0.6998 - val_accuracy: 0.7583\n",
            "Epoch 72/100\n",
            "17/17 [==============================] - 2s 100ms/step - loss: 0.6300 - accuracy: 0.7889 - val_loss: 0.6954 - val_accuracy: 0.7667\n",
            "Epoch 73/100\n",
            "17/17 [==============================] - 2s 100ms/step - loss: 0.6251 - accuracy: 0.7898 - val_loss: 0.6911 - val_accuracy: 0.7667\n",
            "Epoch 74/100\n",
            "17/17 [==============================] - 2s 100ms/step - loss: 0.6201 - accuracy: 0.7907 - val_loss: 0.6874 - val_accuracy: 0.7667\n",
            "Epoch 75/100\n",
            "17/17 [==============================] - 2s 106ms/step - loss: 0.6151 - accuracy: 0.7944 - val_loss: 0.6832 - val_accuracy: 0.7750\n",
            "Epoch 76/100\n",
            "17/17 [==============================] - 2s 100ms/step - loss: 0.6105 - accuracy: 0.7972 - val_loss: 0.6790 - val_accuracy: 0.7750\n",
            "Epoch 77/100\n",
            "17/17 [==============================] - 2s 100ms/step - loss: 0.6058 - accuracy: 0.7972 - val_loss: 0.6749 - val_accuracy: 0.7750\n",
            "Epoch 78/100\n",
            "17/17 [==============================] - 2s 95ms/step - loss: 0.6015 - accuracy: 0.8009 - val_loss: 0.6712 - val_accuracy: 0.7750\n",
            "Epoch 79/100\n",
            "17/17 [==============================] - 2s 100ms/step - loss: 0.5972 - accuracy: 0.8019 - val_loss: 0.6669 - val_accuracy: 0.7667\n",
            "Epoch 80/100\n",
            "17/17 [==============================] - 2s 94ms/step - loss: 0.5928 - accuracy: 0.8037 - val_loss: 0.6627 - val_accuracy: 0.7667\n",
            "Epoch 81/100\n",
            "17/17 [==============================] - 2s 95ms/step - loss: 0.5886 - accuracy: 0.8056 - val_loss: 0.6590 - val_accuracy: 0.7667\n",
            "Epoch 82/100\n",
            "17/17 [==============================] - 2s 94ms/step - loss: 0.5844 - accuracy: 0.8083 - val_loss: 0.6553 - val_accuracy: 0.7667\n",
            "Epoch 83/100\n",
            "17/17 [==============================] - 2s 95ms/step - loss: 0.5803 - accuracy: 0.8083 - val_loss: 0.6517 - val_accuracy: 0.7833\n",
            "Epoch 84/100\n",
            "17/17 [==============================] - 2s 100ms/step - loss: 0.5761 - accuracy: 0.8093 - val_loss: 0.6478 - val_accuracy: 0.7833\n",
            "Epoch 85/100\n",
            "17/17 [==============================] - 2s 100ms/step - loss: 0.5721 - accuracy: 0.8102 - val_loss: 0.6440 - val_accuracy: 0.7833\n",
            "Epoch 86/100\n",
            "17/17 [==============================] - 2s 95ms/step - loss: 0.5683 - accuracy: 0.8111 - val_loss: 0.6407 - val_accuracy: 0.7750\n",
            "Epoch 87/100\n",
            "17/17 [==============================] - 2s 95ms/step - loss: 0.5646 - accuracy: 0.8120 - val_loss: 0.6374 - val_accuracy: 0.7833\n",
            "Epoch 88/100\n",
            "17/17 [==============================] - 2s 94ms/step - loss: 0.5607 - accuracy: 0.8130 - val_loss: 0.6337 - val_accuracy: 0.7833\n",
            "Epoch 89/100\n",
            "17/17 [==============================] - 2s 94ms/step - loss: 0.5571 - accuracy: 0.8130 - val_loss: 0.6309 - val_accuracy: 0.7833\n",
            "Epoch 90/100\n",
            "17/17 [==============================] - 2s 94ms/step - loss: 0.5537 - accuracy: 0.8148 - val_loss: 0.6280 - val_accuracy: 0.7833\n",
            "Epoch 91/100\n",
            "17/17 [==============================] - 2s 95ms/step - loss: 0.5502 - accuracy: 0.8148 - val_loss: 0.6255 - val_accuracy: 0.7833\n",
            "Epoch 92/100\n",
            "17/17 [==============================] - 2s 94ms/step - loss: 0.5466 - accuracy: 0.8139 - val_loss: 0.6224 - val_accuracy: 0.8000\n",
            "Epoch 93/100\n",
            "17/17 [==============================] - 2s 100ms/step - loss: 0.5434 - accuracy: 0.8148 - val_loss: 0.6201 - val_accuracy: 0.8000\n",
            "Epoch 94/100\n",
            "17/17 [==============================] - 2s 100ms/step - loss: 0.5399 - accuracy: 0.8176 - val_loss: 0.6175 - val_accuracy: 0.7917\n",
            "Epoch 95/100\n",
            "17/17 [==============================] - 2s 100ms/step - loss: 0.5366 - accuracy: 0.8176 - val_loss: 0.6145 - val_accuracy: 0.8000\n",
            "Epoch 96/100\n",
            "17/17 [==============================] - 2s 95ms/step - loss: 0.5335 - accuracy: 0.8194 - val_loss: 0.6119 - val_accuracy: 0.8000\n",
            "Epoch 97/100\n",
            "17/17 [==============================] - 2s 100ms/step - loss: 0.5302 - accuracy: 0.8194 - val_loss: 0.6096 - val_accuracy: 0.7917\n",
            "Epoch 98/100\n",
            "17/17 [==============================] - 2s 100ms/step - loss: 0.5269 - accuracy: 0.8204 - val_loss: 0.6064 - val_accuracy: 0.8000\n",
            "Epoch 99/100\n",
            "17/17 [==============================] - 2s 100ms/step - loss: 0.5236 - accuracy: 0.8222 - val_loss: 0.6036 - val_accuracy: 0.8000\n",
            "Epoch 100/100\n",
            "17/17 [==============================] - 2s 96ms/step - loss: 0.5208 - accuracy: 0.8222 - val_loss: 0.6013 - val_accuracy: 0.8083\n"
          ]
        }
      ],
      "source": [
        "train_dataset = tf.data.Dataset.from_tensor_slices((X_train, Y_train)).batch(64)\n",
        "test_dataset = tf.data.Dataset.from_tensor_slices((X_test, Y_test)).batch(64)\n",
        "history = conv_model.fit(train_dataset, epochs=100, validation_data=test_dataset)"
      ]
    },
    {
      "cell_type": "markdown",
      "metadata": {
        "id": "Nj3iGNdi4AJ3"
      },
      "source": [
        "<a name='5'></a>\n",
        "## 5 - History Object \n",
        "\n",
        "The history object is an output of the `.fit()` operation, and provides a record of all the loss and metric values in memory. It's stored as a dictionary that you can retrieve at `history.history`: "
      ]
    },
    {
      "cell_type": "code",
      "execution_count": null,
      "metadata": {
        "id": "JYsTn2qx4AJ3",
        "outputId": "c6bb0fb2-62d2-4417-97a1-855f8aef0679"
      },
      "outputs": [
        {
          "data": {
            "text/plain": [
              "{'loss': [1.827584147453308,\n",
              "  1.7909841537475586,\n",
              "  1.7852314710617065,\n",
              "  1.7802343368530273,\n",
              "  1.7743914127349854,\n",
              "  1.7682682275772095,\n",
              "  1.7591019868850708,\n",
              "  1.7460862398147583,\n",
              "  1.7295759916305542,\n",
              "  1.7070415019989014,\n",
              "  1.6794501543045044,\n",
              "  1.6467186212539673,\n",
              "  1.6072053909301758,\n",
              "  1.564206600189209,\n",
              "  1.5153701305389404,\n",
              "  1.464296817779541,\n",
              "  1.4155514240264893,\n",
              "  1.3704543113708496,\n",
              "  1.324832558631897,\n",
              "  1.2853745222091675,\n",
              "  1.2487430572509766,\n",
              "  1.213889718055725,\n",
              "  1.1811835765838623,\n",
              "  1.1542656421661377,\n",
              "  1.130210041999817,\n",
              "  1.1028923988342285,\n",
              "  1.07609224319458,\n",
              "  1.0554360151290894,\n",
              "  1.0377049446105957,\n",
              "  1.020323634147644,\n",
              "  1.0025180578231812,\n",
              "  0.9849429726600647,\n",
              "  0.96844482421875,\n",
              "  0.953196108341217,\n",
              "  0.9388307929039001,\n",
              "  0.9248707890510559,\n",
              "  0.9113742709159851,\n",
              "  0.8983229398727417,\n",
              "  0.8858168125152588,\n",
              "  0.8739592432975769,\n",
              "  0.8624413013458252,\n",
              "  0.8510945439338684,\n",
              "  0.8401251435279846,\n",
              "  0.8296293616294861,\n",
              "  0.8192598819732666,\n",
              "  0.809120237827301,\n",
              "  0.7993588447570801,\n",
              "  0.7901044487953186,\n",
              "  0.7811621427536011,\n",
              "  0.7730668783187866,\n",
              "  0.7646634578704834,\n",
              "  0.7570492029190063,\n",
              "  0.7479013204574585,\n",
              "  0.7409586906433105,\n",
              "  0.732490599155426,\n",
              "  0.7252529859542847,\n",
              "  0.7178216576576233,\n",
              "  0.7112341523170471,\n",
              "  0.7045964598655701,\n",
              "  0.698162853717804,\n",
              "  0.6915972232818604,\n",
              "  0.6855281591415405,\n",
              "  0.6793311238288879,\n",
              "  0.6734004616737366,\n",
              "  0.667668879032135,\n",
              "  0.6619590520858765,\n",
              "  0.6566200852394104,\n",
              "  0.6517188549041748,\n",
              "  0.6463153958320618,\n",
              "  0.6407800316810608,\n",
              "  0.6351796388626099,\n",
              "  0.6300463676452637,\n",
              "  0.6250569820404053,\n",
              "  0.620145320892334,\n",
              "  0.6151055097579956,\n",
              "  0.6105276346206665,\n",
              "  0.6057993173599243,\n",
              "  0.6015112400054932,\n",
              "  0.5971835851669312,\n",
              "  0.5927709937095642,\n",
              "  0.5885534882545471,\n",
              "  0.5844356417655945,\n",
              "  0.5803015232086182,\n",
              "  0.5761334300041199,\n",
              "  0.5721052885055542,\n",
              "  0.5682581067085266,\n",
              "  0.5646111369132996,\n",
              "  0.5607119202613831,\n",
              "  0.5571277141571045,\n",
              "  0.5537243485450745,\n",
              "  0.550237774848938,\n",
              "  0.5466180443763733,\n",
              "  0.5433986186981201,\n",
              "  0.5398901104927063,\n",
              "  0.5366384387016296,\n",
              "  0.5334859490394592,\n",
              "  0.5301694273948669,\n",
              "  0.5268835425376892,\n",
              "  0.5235893130302429,\n",
              "  0.520774781703949],\n",
              " 'accuracy': [0.1675925999879837,\n",
              "  0.18611110746860504,\n",
              "  0.22962963581085205,\n",
              "  0.23981481790542603,\n",
              "  0.2620370388031006,\n",
              "  0.30000001192092896,\n",
              "  0.3324074149131775,\n",
              "  0.3499999940395355,\n",
              "  0.3444444537162781,\n",
              "  0.3907407522201538,\n",
              "  0.4055555462837219,\n",
              "  0.4185185134410858,\n",
              "  0.44907405972480774,\n",
              "  0.46851852536201477,\n",
              "  0.46851852536201477,\n",
              "  0.489814817905426,\n",
              "  0.5064814686775208,\n",
              "  0.519444465637207,\n",
              "  0.520370364189148,\n",
              "  0.5462962985038757,\n",
              "  0.5620370507240295,\n",
              "  0.5722222328186035,\n",
              "  0.5805555582046509,\n",
              "  0.5879629850387573,\n",
              "  0.6009259223937988,\n",
              "  0.614814817905426,\n",
              "  0.6222222447395325,\n",
              "  0.6342592835426331,\n",
              "  0.6388888955116272,\n",
              "  0.6425926089286804,\n",
              "  0.6537036895751953,\n",
              "  0.6629629731178284,\n",
              "  0.6694444417953491,\n",
              "  0.6722221970558167,\n",
              "  0.6759259104728699,\n",
              "  0.6796296238899231,\n",
              "  0.6805555820465088,\n",
              "  0.6861110925674438,\n",
              "  0.6907407641410828,\n",
              "  0.6972222328186035,\n",
              "  0.6990740895271301,\n",
              "  0.7055555582046509,\n",
              "  0.7092592716217041,\n",
              "  0.7138888835906982,\n",
              "  0.7166666388511658,\n",
              "  0.7194444537162781,\n",
              "  0.7250000238418579,\n",
              "  0.7287036776542664,\n",
              "  0.7342592477798462,\n",
              "  0.7314814925193787,\n",
              "  0.7370370626449585,\n",
              "  0.7379629611968994,\n",
              "  0.7444444298744202,\n",
              "  0.7472222447395325,\n",
              "  0.7490741014480591,\n",
              "  0.7518518567085266,\n",
              "  0.7527777552604675,\n",
              "  0.7527777552604675,\n",
              "  0.7546296119689941,\n",
              "  0.7574074268341064,\n",
              "  0.7611111402511597,\n",
              "  0.7666666507720947,\n",
              "  0.7722222208976746,\n",
              "  0.7731481194496155,\n",
              "  0.7759259343147278,\n",
              "  0.779629647731781,\n",
              "  0.7814815044403076,\n",
              "  0.7814815044403076,\n",
              "  0.7833333611488342,\n",
              "  0.7842592597007751,\n",
              "  0.7842592597007751,\n",
              "  0.7888888716697693,\n",
              "  0.789814829826355,\n",
              "  0.7907407283782959,\n",
              "  0.7944444417953491,\n",
              "  0.7972221970558167,\n",
              "  0.7972221970558167,\n",
              "  0.8009259104728699,\n",
              "  0.8018518686294556,\n",
              "  0.8037037253379822,\n",
              "  0.8055555820465088,\n",
              "  0.8083333373069763,\n",
              "  0.8083333373069763,\n",
              "  0.8092592358589172,\n",
              "  0.8101851940155029,\n",
              "  0.8111110925674438,\n",
              "  0.8120370507240295,\n",
              "  0.8129629492759705,\n",
              "  0.8129629492759705,\n",
              "  0.8148148059844971,\n",
              "  0.8148148059844971,\n",
              "  0.8138889074325562,\n",
              "  0.8148148059844971,\n",
              "  0.8175926208496094,\n",
              "  0.8175926208496094,\n",
              "  0.8194444179534912,\n",
              "  0.8194444179534912,\n",
              "  0.8203703761100769,\n",
              "  0.8222222328186035,\n",
              "  0.8222222328186035],\n",
              " 'val_loss': [1.794171929359436,\n",
              "  1.7866404056549072,\n",
              "  1.7812434434890747,\n",
              "  1.775378704071045,\n",
              "  1.7689423561096191,\n",
              "  1.7603983879089355,\n",
              "  1.7478705644607544,\n",
              "  1.7322994470596313,\n",
              "  1.7114273309707642,\n",
              "  1.6873996257781982,\n",
              "  1.6594312191009521,\n",
              "  1.6255640983581543,\n",
              "  1.5740032196044922,\n",
              "  1.5316779613494873,\n",
              "  1.4817174673080444,\n",
              "  1.4324114322662354,\n",
              "  1.3841016292572021,\n",
              "  1.3470268249511719,\n",
              "  1.3010404109954834,\n",
              "  1.2641228437423706,\n",
              "  1.2302802801132202,\n",
              "  1.198595404624939,\n",
              "  1.1672757863998413,\n",
              "  1.1399199962615967,\n",
              "  1.1228495836257935,\n",
              "  1.1006406545639038,\n",
              "  1.0761743783950806,\n",
              "  1.0555570125579834,\n",
              "  1.0380054712295532,\n",
              "  1.0224848985671997,\n",
              "  1.0089930295944214,\n",
              "  0.9943370819091797,\n",
              "  0.980362057685852,\n",
              "  0.9680455923080444,\n",
              "  0.9562686681747437,\n",
              "  0.9444870352745056,\n",
              "  0.9328016638755798,\n",
              "  0.9217660427093506,\n",
              "  0.9114173054695129,\n",
              "  0.9015547037124634,\n",
              "  0.8921051621437073,\n",
              "  0.8820332884788513,\n",
              "  0.8727388978004456,\n",
              "  0.8638141751289368,\n",
              "  0.8549941182136536,\n",
              "  0.8470304608345032,\n",
              "  0.8388022780418396,\n",
              "  0.8305537700653076,\n",
              "  0.822545051574707,\n",
              "  0.8169037103652954,\n",
              "  0.810073971748352,\n",
              "  0.8023611903190613,\n",
              "  0.7953845262527466,\n",
              "  0.78798508644104,\n",
              "  0.7811790108680725,\n",
              "  0.7754347920417786,\n",
              "  0.769174337387085,\n",
              "  0.763719916343689,\n",
              "  0.7582293748855591,\n",
              "  0.7522886991500854,\n",
              "  0.7467182278633118,\n",
              "  0.7413737773895264,\n",
              "  0.7362058162689209,\n",
              "  0.7313168048858643,\n",
              "  0.7262343168258667,\n",
              "  0.721451997756958,\n",
              "  0.7170833349227905,\n",
              "  0.7137542366981506,\n",
              "  0.7083238959312439,\n",
              "  0.703867495059967,\n",
              "  0.6997731328010559,\n",
              "  0.6954477429389954,\n",
              "  0.6910742521286011,\n",
              "  0.6873927712440491,\n",
              "  0.6831589937210083,\n",
              "  0.6790006756782532,\n",
              "  0.6748542785644531,\n",
              "  0.6711531281471252,\n",
              "  0.6669485569000244,\n",
              "  0.6627288460731506,\n",
              "  0.6589822173118591,\n",
              "  0.6552578210830688,\n",
              "  0.6517065763473511,\n",
              "  0.6477832794189453,\n",
              "  0.64398193359375,\n",
              "  0.6407469511032104,\n",
              "  0.637400209903717,\n",
              "  0.6337160468101501,\n",
              "  0.6308701634407043,\n",
              "  0.6279739141464233,\n",
              "  0.6255369782447815,\n",
              "  0.6223760843276978,\n",
              "  0.6201104521751404,\n",
              "  0.6174886226654053,\n",
              "  0.6144921779632568,\n",
              "  0.6119486093521118,\n",
              "  0.609605610370636,\n",
              "  0.6064369082450867,\n",
              "  0.6035818457603455,\n",
              "  0.6013356447219849],\n",
              " 'val_accuracy': [0.15833333134651184,\n",
              "  0.18333333730697632,\n",
              "  0.22499999403953552,\n",
              "  0.21666666865348816,\n",
              "  0.2666666805744171,\n",
              "  0.30000001192092896,\n",
              "  0.375,\n",
              "  0.3916666805744171,\n",
              "  0.4333333373069763,\n",
              "  0.4416666626930237,\n",
              "  0.4416666626930237,\n",
              "  0.4333333373069763,\n",
              "  0.4333333373069763,\n",
              "  0.4416666626930237,\n",
              "  0.4416666626930237,\n",
              "  0.4749999940395355,\n",
              "  0.44999998807907104,\n",
              "  0.46666666865348816,\n",
              "  0.4749999940395355,\n",
              "  0.5,\n",
              "  0.5166666507720947,\n",
              "  0.5416666865348816,\n",
              "  0.550000011920929,\n",
              "  0.5583333373069763,\n",
              "  0.5583333373069763,\n",
              "  0.574999988079071,\n",
              "  0.6000000238418579,\n",
              "  0.6083333492279053,\n",
              "  0.6083333492279053,\n",
              "  0.6083333492279053,\n",
              "  0.5916666388511658,\n",
              "  0.6000000238418579,\n",
              "  0.6083333492279053,\n",
              "  0.6083333492279053,\n",
              "  0.6166666746139526,\n",
              "  0.625,\n",
              "  0.6333333253860474,\n",
              "  0.6333333253860474,\n",
              "  0.6416666507720947,\n",
              "  0.6416666507720947,\n",
              "  0.6416666507720947,\n",
              "  0.6583333611488342,\n",
              "  0.6583333611488342,\n",
              "  0.6666666865348816,\n",
              "  0.6833333373069763,\n",
              "  0.6833333373069763,\n",
              "  0.699999988079071,\n",
              "  0.7083333134651184,\n",
              "  0.7166666388511658,\n",
              "  0.7083333134651184,\n",
              "  0.7166666388511658,\n",
              "  0.7250000238418579,\n",
              "  0.7250000238418579,\n",
              "  0.7333333492279053,\n",
              "  0.7333333492279053,\n",
              "  0.7333333492279053,\n",
              "  0.7333333492279053,\n",
              "  0.7333333492279053,\n",
              "  0.7333333492279053,\n",
              "  0.7416666746139526,\n",
              "  0.7416666746139526,\n",
              "  0.75,\n",
              "  0.75,\n",
              "  0.75,\n",
              "  0.75,\n",
              "  0.7583333253860474,\n",
              "  0.7583333253860474,\n",
              "  0.75,\n",
              "  0.7583333253860474,\n",
              "  0.7583333253860474,\n",
              "  0.7583333253860474,\n",
              "  0.7666666507720947,\n",
              "  0.7666666507720947,\n",
              "  0.7666666507720947,\n",
              "  0.7749999761581421,\n",
              "  0.7749999761581421,\n",
              "  0.7749999761581421,\n",
              "  0.7749999761581421,\n",
              "  0.7666666507720947,\n",
              "  0.7666666507720947,\n",
              "  0.7666666507720947,\n",
              "  0.7666666507720947,\n",
              "  0.7833333611488342,\n",
              "  0.7833333611488342,\n",
              "  0.7833333611488342,\n",
              "  0.7749999761581421,\n",
              "  0.7833333611488342,\n",
              "  0.7833333611488342,\n",
              "  0.7833333611488342,\n",
              "  0.7833333611488342,\n",
              "  0.7833333611488342,\n",
              "  0.800000011920929,\n",
              "  0.800000011920929,\n",
              "  0.7916666865348816,\n",
              "  0.800000011920929,\n",
              "  0.800000011920929,\n",
              "  0.7916666865348816,\n",
              "  0.800000011920929,\n",
              "  0.800000011920929,\n",
              "  0.8083333373069763]}"
            ]
          },
          "execution_count": 43,
          "metadata": {},
          "output_type": "execute_result"
        }
      ],
      "source": [
        "history.history"
      ]
    },
    {
      "cell_type": "markdown",
      "metadata": {
        "id": "m78jyQ6z4AJ3"
      },
      "source": [
        "Now visualize the loss over time using `history.history`: "
      ]
    },
    {
      "cell_type": "code",
      "execution_count": null,
      "metadata": {
        "id": "Lc83yIKR4AJ3",
        "outputId": "e0919aa1-17ea-4e2a-c938-bed8bcf58123"
      },
      "outputs": [
        {
          "data": {
            "text/plain": [
              "[Text(0, 0.5, 'Accuracy'), Text(0.5, 0, 'Epoch')]"
            ]
          },
          "execution_count": 44,
          "metadata": {},
          "output_type": "execute_result"
        },
        {
          "data": {
            "image/png": "[encoded data removed]",
            "text/plain": [
              "<Figure size 864x576 with 1 Axes>"
            ]
          },
          "metadata": {
            "needs_background": "light"
          },
          "output_type": "display_data"
        },
        {
          "data": {
            "image/png": "[encoded data removed]",
            "text/plain": [
              "<Figure size 864x576 with 1 Axes>"
            ]
          },
          "metadata": {
            "needs_background": "light"
          },
          "output_type": "display_data"
        }
      ],
      "source": [
        "# The history.history[\"loss\"] entry is a dictionary with as many values as epochs that the\n",
        "# model was trained on. \n",
        "df_loss_acc = pd.DataFrame(history.history)\n",
        "df_loss= df_loss_acc[['loss','val_loss']]\n",
        "df_loss.rename(columns={'loss':'train','val_loss':'validation'},inplace=True)\n",
        "df_acc= df_loss_acc[['accuracy','val_accuracy']]\n",
        "df_acc.rename(columns={'accuracy':'train','val_accuracy':'validation'},inplace=True)\n",
        "df_loss.plot(title='Model loss',figsize=(12,8)).set(xlabel='Epoch',ylabel='Loss')\n",
        "df_acc.plot(title='Model Accuracy',figsize=(12,8)).set(xlabel='Epoch',ylabel='Accuracy')"
      ]
    },
    {
      "cell_type": "markdown",
      "metadata": {
        "id": "1GhdExR24AJ3"
      },
      "source": [
        "**Congratulations**! You've finished the assignment and built two models: One that recognizes  smiles, and another that recognizes SIGN language with almost 80% accuracy on the test set. In addition to that, you now also understand the applications of two Keras APIs: Sequential and Functional. Nicely done! \n",
        "\n",
        "By now, you know a bit about how the Functional API works and may have glimpsed the possibilities. In your next assignment, you'll really get a feel for its power when you get the opportunity to build a very deep ConvNet, using ResNets! "
      ]
    },
    {
      "cell_type": "markdown",
      "metadata": {
        "id": "EAwT4TJc4AJ4"
      },
      "source": [
        "<a name='6'></a>\n",
        "## 6 - Bibliography\n",
        "\n",
        "You're always encouraged to read the official documentation. To that end, you can find the docs for the Sequential and Functional APIs here: \n",
        "\n",
        "https://www.tensorflow.org/guide/keras/sequential_model\n",
        "\n",
        "https://www.tensorflow.org/guide/keras/functional"
      ]
    }
  ],
  "metadata": {
    "coursera": {
      "course_slug": "convolutional-neural-networks",
      "graded_item_id": "bwbJV",
      "launcher_item_id": "0TkXB"
    },
    "kernelspec": {
      "display_name": "Python 3",
      "language": "python",
      "name": "python3"
    },
    "language_info": {
      "codemirror_mode": {
        "name": "ipython",
        "version": 3
      },
      "file_extension": ".py",
      "mimetype": "text/x-python",
      "name": "python",
      "nbconvert_exporter": "python",
      "pygments_lexer": "ipython3",
      "version": "3.7.6"
    },
    "colab": {
      "provenance": [],
      "include_colab_link": true
    }
  },
  "nbformat": 4,
  "nbformat_minor": 0
}